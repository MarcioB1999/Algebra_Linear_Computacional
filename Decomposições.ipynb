{
  "nbformat": 4,
  "nbformat_minor": 0,
  "metadata": {
    "colab": {
      "name": "Decomposições.ipynb",
      "provenance": [],
      "collapsed_sections": [],
      "authorship_tag": "ABX9TyN5qOv9eQqplyTOMPzSzKs9",
      "include_colab_link": true
    },
    "kernelspec": {
      "name": "python3",
      "display_name": "Python 3"
    }
  },
  "cells": [
    {
      "cell_type": "markdown",
      "metadata": {
        "id": "view-in-github",
        "colab_type": "text"
      },
      "source": [
        "<a href=\"https://colab.research.google.com/github/MarcioB1999/ALC/blob/main/Decomposi%C3%A7%C3%B5es.ipynb\" target=\"_parent\"><img src=\"https://colab.research.google.com/assets/colab-badge.svg\" alt=\"Open In Colab\"/></a>"
      ]
    },
    {
      "cell_type": "code",
      "metadata": {
        "colab": {
          "base_uri": "https://localhost:8080/"
        },
        "id": "oirNejkvauGv",
        "outputId": "3e727d66-6d3e-47c9-d018-19cd2a6401e3"
      },
      "source": [
        "!pip install matplotlib-venn\n",
        "import numpy as np\n",
        "from matplotlib import pyplot as plt\n",
        "import os"
      ],
      "execution_count": 22,
      "outputs": [
        {
          "output_type": "stream",
          "text": [
            "Requirement already satisfied: matplotlib-venn in /usr/local/lib/python3.7/dist-packages (0.11.6)\n",
            "Requirement already satisfied: scipy in /usr/local/lib/python3.7/dist-packages (from matplotlib-venn) (1.4.1)\n",
            "Requirement already satisfied: numpy in /usr/local/lib/python3.7/dist-packages (from matplotlib-venn) (1.19.5)\n",
            "Requirement already satisfied: matplotlib in /usr/local/lib/python3.7/dist-packages (from matplotlib-venn) (3.2.2)\n",
            "Requirement already satisfied: kiwisolver>=1.0.1 in /usr/local/lib/python3.7/dist-packages (from matplotlib->matplotlib-venn) (1.3.1)\n",
            "Requirement already satisfied: cycler>=0.10 in /usr/local/lib/python3.7/dist-packages (from matplotlib->matplotlib-venn) (0.10.0)\n",
            "Requirement already satisfied: python-dateutil>=2.1 in /usr/local/lib/python3.7/dist-packages (from matplotlib->matplotlib-venn) (2.8.1)\n",
            "Requirement already satisfied: pyparsing!=2.0.4,!=2.1.2,!=2.1.6,>=2.0.1 in /usr/local/lib/python3.7/dist-packages (from matplotlib->matplotlib-venn) (2.4.7)\n",
            "Requirement already satisfied: six in /usr/local/lib/python3.7/dist-packages (from cycler>=0.10->matplotlib->matplotlib-venn) (1.15.0)\n"
          ],
          "name": "stdout"
        }
      ]
    },
    {
      "cell_type": "markdown",
      "metadata": {
        "id": "7uvPdiyCla33"
      },
      "source": [
        "**Householder**"
      ]
    },
    {
      "cell_type": "markdown",
      "metadata": {
        "id": "BMDpryZxKbEg"
      },
      "source": [
        "**Manual:** \\\\\n",
        "O parâmetro de entrada é um vetor $\\mathbf{x} \\in \\mathbb{R}^{n}$, e a saída será uma matriz $\\mathbf{P} \\in M(n\\times n)$."
      ]
    },
    {
      "cell_type": "code",
      "metadata": {
        "id": "GTOV0MxT5RR8"
      },
      "source": [
        " \n",
        "def Householder(x):\n",
        "  n=np.shape(x)[0]\n",
        "  e=np.zeros(n)\n",
        "  e[0]=1\n",
        "  norma=np.linalg.norm(x,ord=2)\n",
        "  if(x[0]<0):\n",
        "     v=x-norma*e\n",
        "  else:\n",
        "     v=x+norma*e\n",
        "  P = np.eye(n) - ((2/float((v.transpose()).dot(v)))*(np.outer(v,v)))\n",
        "  return P"
      ],
      "execution_count": 23,
      "outputs": []
    },
    {
      "cell_type": "markdown",
      "metadata": {
        "id": "3mgRU-GPlfqJ"
      },
      "source": [
        "**Rotação de Givens**"
      ]
    },
    {
      "cell_type": "markdown",
      "metadata": {
        "id": "BUYgHgubKfd-"
      },
      "source": [
        "**Manual:** \\\\\n",
        "Os parâmetros de entrada são um vetor $\\mathbf{x} \\in \\mathbb{R}^{n}$, e dois índices $i$ e $j$, referentes a linha e a coluna. E a saída será uma matriz $\\mathbf{J} \\in M(n\\times n)$."
      ]
    },
    {
      "cell_type": "code",
      "metadata": {
        "id": "RkKS14H_uI-R"
      },
      "source": [
        "def RotacaoGivens(x,i,j):\n",
        "    n=np.shape(x)[0]\n",
        "    J = np.eye(n)\n",
        "    aux=((x[i]**2)+(x[j]**2))**(1/2)\n",
        "    cos=x[i]/aux\n",
        "    sen=x[j]/aux\n",
        "    J[i,i] = cos\n",
        "    J[j,j] = cos\n",
        "    J[i,j] = sen\n",
        "    J[j,i] = -sen\n",
        "    return J"
      ],
      "execution_count": 24,
      "outputs": []
    },
    {
      "cell_type": "markdown",
      "metadata": {
        "id": "uIa1_lOvliLK"
      },
      "source": [
        " **Decomposição QR/ Householder**"
      ]
    },
    {
      "cell_type": "markdown",
      "metadata": {
        "id": "FyJQk_wDKiUI"
      },
      "source": [
        "**Manual:** \\\\\n",
        "O parâmetro de entrada é uma matriz $\\mathbf{A} \\in M(m\\times n)$, e a saída será a matriz $\\mathbf{Q} \\in M(m\\times n)$, ortogonal, e $\\mathbf{R} \\in M(n\\times n)$, triangular superior, respectivamente ."
      ]
    },
    {
      "cell_type": "code",
      "metadata": {
        "id": "jlOLBYdxyQpV"
      },
      "source": [
        "def QRH(A):\n",
        "    m, n=np.shape(A)\n",
        "    if(m>n):\n",
        "      p=n\n",
        "    else:\n",
        "      p=m-1\n",
        "    QT=np.eye(m)\n",
        "    R_ant=A\n",
        "    for j in range(p):\n",
        "         H=np.eye(m)\n",
        "         x=R_ant[j:m,j]\n",
        "         x=(np.array(x)).reshape(-1)\n",
        "         P=Householder(x)\n",
        "         H[j:m,j:m]=P[:]\n",
        "         R=H.dot(R_ant)\n",
        "         R_ant=R[:]\n",
        "         QT=H.dot(QT)\n",
        " \n",
        "    return -QT, -R"
      ],
      "execution_count": 25,
      "outputs": []
    },
    {
      "cell_type": "markdown",
      "metadata": {
        "id": "lvo7ecP8lk0f"
      },
      "source": [
        "**Decomposição QR/ Rotação de Givens**"
      ]
    },
    {
      "cell_type": "markdown",
      "metadata": {
        "id": "s0Rn9PCYKl1y"
      },
      "source": [
        " \n",
        "**Manual:** \\\\\n",
        "O parâmetro de entrada é uma matriz $\\mathbf{A} \\in M(m\\times n)$, e a saída será a matriz $\\mathbf{Q} \\in M(m\\times n)$, ortogonal, e $\\mathbf{R} \\in M(n\\times n)$, triangular superior, respectivamente ."
      ]
    },
    {
      "cell_type": "code",
      "metadata": {
        "id": "9sbmvp7TB9Na"
      },
      "source": [
        "def QRRG(A):\n",
        "    m,n=np.shape(A)\n",
        "    QT=np.eye(m)\n",
        "    R_ant=A\n",
        "    if(m<n):\n",
        "      p=m-1\n",
        "    else:\n",
        "      p=n\n",
        "    for i in range(p):\n",
        "         x=R_ant[0:m,i]\n",
        "         x=(np.array(x)).reshape(-1)\n",
        "         J_i=aux1(x,i)\n",
        "         R=J_i.dot(R_ant)\n",
        "         R_ant=R[:]\n",
        "         QT=J_i.dot(QT)\n",
        " \n",
        "    return QT, R"
      ],
      "execution_count": 26,
      "outputs": []
    },
    {
      "cell_type": "code",
      "metadata": {
        "id": "Mc6Naro3bpU5"
      },
      "source": [
        "def aux1(x, k):\n",
        "    n=np.shape(x)[0]\n",
        "    J_nova = np.eye(n)           \n",
        "    x_velha = x\n",
        "    for j in range(k+1,n):\n",
        "        J_ij = RotacaoGivens(x_velha,k,j)\n",
        "        x_nova = (J_ij).dot(x_velha)     \n",
        "        x_velha = x_nova\n",
        "        J_nova = J_ij.dot(J_nova)\n",
        "    return J_nova"
      ],
      "execution_count": 27,
      "outputs": []
    },
    {
      "cell_type": "markdown",
      "metadata": {
        "id": "pmNf-omVlnuI"
      },
      "source": [
        " **Questão 10**"
      ]
    },
    {
      "cell_type": "markdown",
      "metadata": {
        "id": "JUiyPOaFKppO"
      },
      "source": [
        "**Manual:** \\\\\n",
        "Não tem entrada. A saída é confirmando se teve sucesso ou não na igualdade das matrizes, $A_{i}=Q_{i}R_{i}$. Para cada matriz $A_{i}$, $i=1,2,3$, matriz aleatória, teremos duas confirmações, se foi possível obter a igualdade no método givens, e para o método householder, respectivamente."
      ]
    },
    {
      "cell_type": "code",
      "metadata": {
        "id": "p6iafVC7tQ_y"
      },
      "source": [
        "def questao10():\n",
        "   A=np.random.rand(3,5)\n",
        "   aux2(A, 1)\n",
        "   B=np.random.rand(5,5)\n",
        "   aux2(B, 2)\n",
        "   C=np.random.rand(5,3)\n",
        "   aux2(C, 3)\n",
        " \n",
        " \n",
        " \n",
        " \n",
        "def aux2(A, i):\n",
        "   Q, R=questao9(A)\n",
        "   A2=np.matrix((Q.T).dot(R))\n",
        "   if(np.allclose(A2,A)):\n",
        "     print('o resultado da ',i,' matriz foi obtido com sucesso, pelo metodo de givens')\n",
        "   else:\n",
        "     print('o resultado da',i,' matriz não foi obtido com sucesso, pelo metodo de givens')\n",
        "   q, r=questao8(A)\n",
        "   A3=(q.T).dot(r)\n",
        "   if(np.allclose(A3, A)):\n",
        "     print('o resultado da',i,' matriz foi obtido com sucesso, pelo metodo de householder')\n",
        "   else:\n",
        "     print('o resultado da ', i,' matriz não foi obtido com sucesso, pelo metodo de householder')"
      ],
      "execution_count": 46,
      "outputs": []
    },
    {
      "cell_type": "markdown",
      "metadata": {
        "id": "BBxl4IOMYs5g"
      },
      "source": [
        "**Teste**"
      ]
    },
    {
      "cell_type": "code",
      "metadata": {
        "colab": {
          "base_uri": "https://localhost:8080/"
        },
        "id": "TopSwfQT7gQ0",
        "outputId": "a4fe53da-9928-44ac-d4ca-428230b4a105"
      },
      "source": [
        "A=np.array([[1, 2, 1], [3, 8, 14], [2, 1, 13]])\n",
        "v=np.array([1, 2, 4])\n",
        "#Q, R=questao9(A)\n",
        "#print(\"Q=\", Q)\n",
        "#print(\"R=\", R)\n",
        "#P=Householder(v)\n",
        "#print(P.dot(v))\n",
        "#P=RotacaoGivens(v, 1, 0)\n",
        "#print(P.dot(v))\n",
        "questao10()"
      ],
      "execution_count": 47,
      "outputs": [
        {
          "output_type": "stream",
          "text": [
            "o resultado da  1  matriz foi obtido com sucesso, pelo metodo de givens\n",
            "o resultado da 1  matriz foi obtido com sucesso, pelo metodo de householder\n",
            "o resultado da  2  matriz foi obtido com sucesso, pelo metodo de givens\n",
            "o resultado da 2  matriz foi obtido com sucesso, pelo metodo de householder\n",
            "o resultado da  3  matriz foi obtido com sucesso, pelo metodo de givens\n",
            "o resultado da 3  matriz foi obtido com sucesso, pelo metodo de householder\n"
          ],
          "name": "stdout"
        }
      ]
    }
  ]
}
